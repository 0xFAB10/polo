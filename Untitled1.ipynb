{
  "nbformat": 4,
  "nbformat_minor": 0,
  "metadata": {
    "colab": {
      "name": "Untitled1.ipynb",
      "provenance": []
    },
    "kernelspec": {
      "name": "python3",
      "display_name": "Python 3"
    }
  },
  "cells": [
    {
      "cell_type": "code",
      "metadata": {
        "id": "NCHJL8HQOS27",
        "colab_type": "code",
        "colab": {
          "base_uri": "https://localhost:8080/",
          "height": 343
        },
        "outputId": "f60a5fdd-fabd-4498-9263-ee63f61b33fc"
      },
      "source": [
        "!wget \"https://drive.google.com/open?id=1K48FWvTObb_9TllvVqmO-RCRgD81AbTe\"\n",
        "!unzip open?id=1K48FWvTObb_9TllvVqmO-RCRgD81AbTe.1"
      ],
      "execution_count": 5,
      "outputs": [
        {
          "output_type": "stream",
          "text": [
            "--2019-11-02 13:22:30--  https://drive.google.com/open?id=1K48FWvTObb_9TllvVqmO-RCRgD81AbTe\n",
            "Resolving drive.google.com (drive.google.com)... 74.125.20.138, 74.125.20.113, 74.125.20.102, ...\n",
            "Connecting to drive.google.com (drive.google.com)|74.125.20.138|:443... connected.\n",
            "HTTP request sent, awaiting response... 307 OK\n",
            "Location: https://drive.google.com/file/d/1K48FWvTObb_9TllvVqmO-RCRgD81AbTe/view?usp=drive_open [following]\n",
            "--2019-11-02 13:22:30--  https://drive.google.com/file/d/1K48FWvTObb_9TllvVqmO-RCRgD81AbTe/view?usp=drive_open\n",
            "Reusing existing connection to drive.google.com:443.\n",
            "HTTP request sent, awaiting response... 200 OK\n",
            "Length: unspecified [text/html]\n",
            "Saving to: ‘open?id=1K48FWvTObb_9TllvVqmO-RCRgD81AbTe’\n",
            "\n",
            "\r          open?id=1     [<=>                 ]       0  --.-KB/s               \ropen?id=1K48FWvTObb     [ <=>                ]  66.07K  --.-KB/s    in 0.01s   \n",
            "\n",
            "2019-11-02 13:22:30 (5.83 MB/s) - ‘open?id=1K48FWvTObb_9TllvVqmO-RCRgD81AbTe’ saved [67654]\n",
            "\n",
            "unzip:  cannot find or open open?id=1K48FWvTObb_9TllvVqmO-RCRgD81AbTe.1, open?id=1K48FWvTObb_9TllvVqmO-RCRgD81AbTe.1.zip or open?id=1K48FWvTObb_9TllvVqmO-RCRgD81AbTe.1.ZIP.\n",
            "\n",
            "No zipfiles found.\n"
          ],
          "name": "stdout"
        }
      ]
    },
    {
      "cell_type": "code",
      "metadata": {
        "id": "79rbq3ToRFr5",
        "colab_type": "code",
        "colab": {
          "base_uri": "https://localhost:8080/",
          "height": 88
        },
        "outputId": "4e2c7f78-be8d-44e0-932d-33f80b6fdf82"
      },
      "source": [
        "!unzip open?id=1K48FWvTObb_9TllvVqmO-RCRgD81AbTe.1"
      ],
      "execution_count": 4,
      "outputs": [
        {
          "output_type": "stream",
          "text": [
            "unzip:  cannot find or open open?id=1K48FWvTObb_9TllvVqmO-RCRgD81AbTe.1, open?id=1K48FWvTObb_9TllvVqmO-RCRgD81AbTe.1.zip or open?id=1K48FWvTObb_9TllvVqmO-RCRgD81AbTe.1.ZIP.\n",
            "\n",
            "No zipfiles found.\n"
          ],
          "name": "stdout"
        }
      ]
    },
    {
      "cell_type": "code",
      "metadata": {
        "id": "5HkEUrX3RmA3",
        "colab_type": "code",
        "colab": {}
      },
      "source": [
        ""
      ],
      "execution_count": 0,
      "outputs": []
    }
  ]
}